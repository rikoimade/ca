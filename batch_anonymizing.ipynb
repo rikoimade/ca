{
 "cells": [
  {
   "cell_type": "markdown",
   "metadata": {},
   "source": [
    "# Description:\n",
    "    This is a script to process batch of video files -- annonemize:\n",
    "    - Invert the image color\n",
    "    - Change to black and white\n",
    "    - Change the sound pitch by 4 semitones\n",
    "    \n",
    "    It require moviepy to be installed on the system\n",
    "    https://pypi.org/project/moviepy/\n",
    "    - to install \"pip install moviepy\" or \"conda install moviepy\"\n",
    "    \n",
    "    Librosa for pitch change\n",
    "    https://librosa.github.io/librosa/generated/librosa.effects.pitch_shift.html\n",
    "    - \"pip install librosa\"\n",
    "    - \"conda install -c conda-forge librosa\"\n",
    "    \n",
    "How to use:\n",
    "    - Place this notebook at the directory with multiple video files and run the script\n",
    "    - it will convert all the video files, and placed in the specified folder\n",
    "    \n",
    "troubleshooting:\n",
    "    - imageio.ffmpeg.download() has been deprecated. Use 'pip install imageio-ffmpeg' instead.'\n",
    "    - solution: pip install imageio==2.4.1 or conda install imageio==2.4.1"
   ]
  },
  {
   "cell_type": "code",
   "execution_count": 56,
   "metadata": {},
   "outputs": [],
   "source": [
    "## setup \n",
    "extension = \"mp4\"\n",
    "outputfolder = \"processed\"\n",
    "appended_name = \"invert\" #change accordingly\n",
    "tempfile = \"temporary-soundfile.wav\" ## temporary sound file\n",
    "\n",
    "testing = True ## set true only for testing, it only process 10 sec of the clip\n",
    "t_start = 20\n",
    "t_stop = 30\n",
    "n_test = 6 ## number of file to run for test"
   ]
  },
  {
   "cell_type": "code",
   "execution_count": 57,
   "metadata": {},
   "outputs": [],
   "source": [
    "## import necessary library\n",
    "import glob\n",
    "import os\n",
    "\n",
    "## minimum library to invert video\n",
    "from moviepy.editor import * ##VideoFileClip, AudioFileClip\n",
    "from moviepy.video.fx.all import invert_colors\n",
    "from moviepy.video.fx.all import blackwhite\n",
    "## library for audio manipulation\n",
    "import numpy as np\n",
    "import librosa\n"
   ]
  },
  {
   "cell_type": "code",
   "execution_count": null,
   "metadata": {},
   "outputs": [],
   "source": []
  },
  {
   "cell_type": "code",
   "execution_count": 58,
   "metadata": {},
   "outputs": [],
   "source": [
    "## make a list of video files with the specified extension\n",
    "flist = glob.glob(\"*.\"+extension)"
   ]
  },
  {
   "cell_type": "code",
   "execution_count": 59,
   "metadata": {},
   "outputs": [
    {
     "data": {
      "text/plain": [
       "['The Chipettes - Single Ladies  (HD videoclipe).mp4',\n",
       " 'Peppa Pig Goes Around The World - Animated Peppa Pig Story.mp4',\n",
       " 'Peppa Pig The Tree House Daddy Gets Fit Season 1 Episode 39 40.mp4',\n",
       " 'FROZEN  Let It Go Sing-along  Official Disney UK.mp4',\n",
       " 'Peppa Pig - Compilation 2 (45 minutes).mp4',\n",
       " 'Module 8.2 Power BI Mobile App.mp4']"
      ]
     },
     "execution_count": 59,
     "metadata": {},
     "output_type": "execute_result"
    }
   ],
   "source": [
    "## check all the files are detected\n",
    "flist"
   ]
  },
  {
   "cell_type": "code",
   "execution_count": 60,
   "metadata": {},
   "outputs": [
    {
     "name": "stdout",
     "output_type": "stream",
     "text": [
      "The Chipettes - Single Ladies  (HD videoclipe)_invert.mp4\n",
      "Peppa Pig Goes Around The World - Animated Peppa Pig Story_invert.mp4\n",
      "Peppa Pig The Tree House Daddy Gets Fit Season 1 Episode 39 40_invert.mp4\n",
      "FROZEN  Let It Go Sing-along  Official Disney UK_invert.mp4\n",
      "Peppa Pig - Compilation 2 (45 minutes)_invert.mp4\n",
      "Module 8.2 Power BI Mobile App_invert.mp4\n"
     ]
    }
   ],
   "source": [
    "## check names for the new files\n",
    "for video in flist:\n",
    "    new_name = video.split(\".\"+extension)[0] + \"_\" + appended_name +\".\" + extension\n",
    "    print(new_name)"
   ]
  },
  {
   "cell_type": "code",
   "execution_count": 61,
   "metadata": {},
   "outputs": [],
   "source": [
    "## check if the output folder exist, if not create the output folder\n",
    "if os.path.isdir(outputfolder) == False: os.mkdir(outputfolder)"
   ]
  },
  {
   "cell_type": "code",
   "execution_count": 62,
   "metadata": {},
   "outputs": [
    {
     "name": "stdout",
     "output_type": "stream",
     "text": [
      "[MoviePy] >>>> Building video processed/The Chipettes - Single Ladies  (HD videoclipe)_invert.mp4\n",
      "[MoviePy] Writing audio in The Chipettes - Single Ladies  (HD videoclipe)_invertTEMP_MPY_wvf_snd.mp3\n"
     ]
    },
    {
     "name": "stderr",
     "output_type": "stream",
     "text": [
      "100%|██████████| 221/221 [00:00<00:00, 596.42it/s]"
     ]
    },
    {
     "name": "stdout",
     "output_type": "stream",
     "text": [
      "[MoviePy] Done.\n",
      "[MoviePy] Writing video processed/The Chipettes - Single Ladies  (HD videoclipe)_invert.mp4\n"
     ]
    },
    {
     "name": "stderr",
     "output_type": "stream",
     "text": [
      "\n",
      "100%|██████████| 300/300 [00:06<00:00, 45.17it/s]\n"
     ]
    },
    {
     "name": "stdout",
     "output_type": "stream",
     "text": [
      "[MoviePy] Done.\n",
      "[MoviePy] >>>> Video ready: processed/The Chipettes - Single Ladies  (HD videoclipe)_invert.mp4 \n",
      "\n",
      "[MoviePy] >>>> Building video processed/Peppa Pig Goes Around The World - Animated Peppa Pig Story_invert.mp4\n",
      "[MoviePy] Writing audio in Peppa Pig Goes Around The World - Animated Peppa Pig Story_invertTEMP_MPY_wvf_snd.mp3\n"
     ]
    },
    {
     "name": "stderr",
     "output_type": "stream",
     "text": [
      "100%|██████████| 221/221 [00:00<00:00, 606.19it/s]"
     ]
    },
    {
     "name": "stdout",
     "output_type": "stream",
     "text": [
      "[MoviePy] Done.\n",
      "[MoviePy] Writing video processed/Peppa Pig Goes Around The World - Animated Peppa Pig Story_invert.mp4\n"
     ]
    },
    {
     "name": "stderr",
     "output_type": "stream",
     "text": [
      "\n",
      "100%|█████████▉| 300/301 [00:06<00:00, 47.33it/s]\n"
     ]
    },
    {
     "name": "stdout",
     "output_type": "stream",
     "text": [
      "[MoviePy] Done.\n",
      "[MoviePy] >>>> Video ready: processed/Peppa Pig Goes Around The World - Animated Peppa Pig Story_invert.mp4 \n",
      "\n",
      "[MoviePy] >>>> Building video processed/Peppa Pig The Tree House Daddy Gets Fit Season 1 Episode 39 40_invert.mp4\n",
      "[MoviePy] Writing audio in Peppa Pig The Tree House Daddy Gets Fit Season 1 Episode 39 40_invertTEMP_MPY_wvf_snd.mp3\n"
     ]
    },
    {
     "name": "stderr",
     "output_type": "stream",
     "text": [
      "100%|██████████| 221/221 [00:00<00:00, 554.67it/s]\n"
     ]
    },
    {
     "name": "stdout",
     "output_type": "stream",
     "text": [
      "[MoviePy] Done.\n",
      "[MoviePy] Writing video processed/Peppa Pig The Tree House Daddy Gets Fit Season 1 Episode 39 40_invert.mp4\n"
     ]
    },
    {
     "name": "stderr",
     "output_type": "stream",
     "text": [
      "100%|██████████| 300/300 [00:06<00:00, 44.16it/s]\n"
     ]
    },
    {
     "name": "stdout",
     "output_type": "stream",
     "text": [
      "[MoviePy] Done.\n",
      "[MoviePy] >>>> Video ready: processed/Peppa Pig The Tree House Daddy Gets Fit Season 1 Episode 39 40_invert.mp4 \n",
      "\n",
      "[MoviePy] >>>> Building video processed/FROZEN  Let It Go Sing-along  Official Disney UK_invert.mp4\n",
      "[MoviePy] Writing audio in FROZEN  Let It Go Sing-along  Official Disney UK_invertTEMP_MPY_wvf_snd.mp3\n"
     ]
    },
    {
     "name": "stderr",
     "output_type": "stream",
     "text": [
      "100%|██████████| 221/221 [00:00<00:00, 528.14it/s]"
     ]
    },
    {
     "name": "stdout",
     "output_type": "stream",
     "text": [
      "[MoviePy] Done.\n",
      "[MoviePy] Writing video processed/FROZEN  Let It Go Sing-along  Official Disney UK_invert.mp4\n"
     ]
    },
    {
     "name": "stderr",
     "output_type": "stream",
     "text": [
      "\n",
      "100%|█████████▉| 240/241 [00:05<00:00, 45.71it/s]\n"
     ]
    },
    {
     "name": "stdout",
     "output_type": "stream",
     "text": [
      "[MoviePy] Done.\n",
      "[MoviePy] >>>> Video ready: processed/FROZEN  Let It Go Sing-along  Official Disney UK_invert.mp4 \n",
      "\n",
      "[MoviePy] >>>> Building video processed/Peppa Pig - Compilation 2 (45 minutes)_invert.mp4\n",
      "[MoviePy] Writing audio in Peppa Pig - Compilation 2 (45 minutes)_invertTEMP_MPY_wvf_snd.mp3\n"
     ]
    },
    {
     "name": "stderr",
     "output_type": "stream",
     "text": [
      "100%|██████████| 221/221 [00:00<00:00, 552.90it/s]\n"
     ]
    },
    {
     "name": "stdout",
     "output_type": "stream",
     "text": [
      "[MoviePy] Done.\n",
      "[MoviePy] Writing video processed/Peppa Pig - Compilation 2 (45 minutes)_invert.mp4\n"
     ]
    },
    {
     "name": "stderr",
     "output_type": "stream",
     "text": [
      "100%|██████████| 240/240 [00:05<00:00, 46.70it/s]\n"
     ]
    },
    {
     "name": "stdout",
     "output_type": "stream",
     "text": [
      "[MoviePy] Done.\n",
      "[MoviePy] >>>> Video ready: processed/Peppa Pig - Compilation 2 (45 minutes)_invert.mp4 \n",
      "\n",
      "[MoviePy] >>>> Building video processed/Module 8.2 Power BI Mobile App_invert.mp4\n",
      "[MoviePy] Writing audio in Module 8.2 Power BI Mobile App_invertTEMP_MPY_wvf_snd.mp3\n"
     ]
    },
    {
     "name": "stderr",
     "output_type": "stream",
     "text": [
      "100%|██████████| 221/221 [00:00<00:00, 571.08it/s]"
     ]
    },
    {
     "name": "stdout",
     "output_type": "stream",
     "text": [
      "[MoviePy] Done.\n"
     ]
    },
    {
     "name": "stderr",
     "output_type": "stream",
     "text": [
      "\n"
     ]
    },
    {
     "name": "stdout",
     "output_type": "stream",
     "text": [
      "[MoviePy] Writing video processed/Module 8.2 Power BI Mobile App_invert.mp4\n"
     ]
    },
    {
     "name": "stderr",
     "output_type": "stream",
     "text": [
      "100%|██████████| 300/300 [00:06<00:00, 47.18it/s]\n"
     ]
    },
    {
     "name": "stdout",
     "output_type": "stream",
     "text": [
      "[MoviePy] Done.\n",
      "[MoviePy] >>>> Video ready: processed/Module 8.2 Power BI Mobile App_invert.mp4 \n",
      "\n"
     ]
    }
   ],
   "source": [
    "if testing == False:\n",
    "    n_test = len(flist)\n",
    "\n",
    "\n",
    "for fname in flist[:n_test]:\n",
    "    \n",
    "    clip0 = VideoFileClip(fname,audio=False)\n",
    "    \n",
    "    if testing == False:\n",
    "        \n",
    "        y, sr = librosa.load(fname)\n",
    "    else:\n",
    "        \n",
    "        clip0 = clip0.subclip(t_start,t_stop)\n",
    "        y, sr = librosa.load(fname, offset=t_start, duration = (t_stop-t_start))\n",
    "    \n",
    "    ## modify the video\n",
    "    clip1 = (clip0.fx(invert_colors)\n",
    "             .fx(blackwhite)\n",
    "            )\n",
    "    \n",
    "    ## modify the audio\n",
    "    \n",
    "    y = librosa.effects.pitch_shift(y, sr, n_steps=4)\n",
    "    librosa.output.write_wav(tempfile,y,sr)\n",
    "    \n",
    "    \n",
    "    ## combine audio and video\n",
    "    clip1 = clip1.set_audio(AudioFileClip(tempfile))\n",
    "    \n",
    "    new_name = fname.split(\".\"+extension)[0] + \"_\" + appended_name +\".\" + extension\n",
    "    clip1.write_videofile(outputfolder+\"/\"+new_name)"
   ]
  },
  {
   "cell_type": "markdown",
   "metadata": {},
   "source": [
    "## clean up\n",
    "1. delete all temporary file\n"
   ]
  },
  {
   "cell_type": "code",
   "execution_count": 63,
   "metadata": {},
   "outputs": [],
   "source": [
    "if os.path.isfile(tempfile): os.remove(tempfile)"
   ]
  },
  {
   "cell_type": "code",
   "execution_count": null,
   "metadata": {},
   "outputs": [],
   "source": []
  }
 ],
 "metadata": {
  "kernelspec": {
   "display_name": "Python 3",
   "language": "python",
   "name": "python3"
  },
  "language_info": {
   "codemirror_mode": {
    "name": "ipython",
    "version": 3
   },
   "file_extension": ".py",
   "mimetype": "text/x-python",
   "name": "python",
   "nbconvert_exporter": "python",
   "pygments_lexer": "ipython3",
   "version": "3.7.3"
  }
 },
 "nbformat": 4,
 "nbformat_minor": 2
}
